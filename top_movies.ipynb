{
 "cells": [
  {
   "cell_type": "markdown",
   "metadata": {},
   "source": [
    "# Scrape the top 25 movies from  a web page"
   ]
  },
  {
   "cell_type": "code",
   "execution_count": null,
   "metadata": {},
   "outputs": [],
   "source": [
    "# import the necessary required libraries\n",
    "import pandas as pd\n",
    "import requests\n",
    "from bs4 import BeautifulSoup\n",
    "import sqlite3"
   ]
  },
  {
   "cell_type": "code",
   "execution_count": null,
   "metadata": {},
   "outputs": [],
   "source": [
    "# Initialize variables, data source path, data destination path, database name and table name\n",
    "url = 'https://web.archive.org/web/20230902185655/https://en.everybodywiki.com/100_Most_Highly-Ranked_Films' # link to the data source page\n",
    "csvpath = 'D:/Data Engineerring/scraping_project/target_file.csv' # csv file to export the extracted and transformed web data\n",
    "db_name = 'movies.db' # sqlite database name for the final data set\n",
    "table_name = 'top_25' # sqlite table to store the csv data\n",
    "df = pd.DataFrame(columns=[\"Film\",\"Year\",\"Rotten Tomatoes' Top 100\"]) # define an empty dataframe\n",
    "count = 0 # counter to allow looping through the web page contents"
   ]
  },
  {
   "cell_type": "code",
   "execution_count": null,
   "metadata": {},
   "outputs": [],
   "source": [
    "html_page = requests.get(url).text # get the web page using request library as a text file\n",
    "data = BeautifulSoup(html_page, 'html.parser') # use BeatifulSoup library to parse the html elements and tags"
   ]
  },
  {
   "cell_type": "code",
   "execution_count": null,
   "metadata": {},
   "outputs": [],
   "source": [
    "tables = data.find_all('tbody') # Find all tables in the web page\n",
    "rows = tables[0].find_all('tr') # Find all the rows contained in the first table in the web page"
   ]
  },
  {
   "cell_type": "code",
   "execution_count": null,
   "metadata": {},
   "outputs": [],
   "source": [
    "# Find all the data contained in the columns and do transformation\n",
    "for row in rows:\n",
    "    if count <= 25:\n",
    "        col = row.find_all('td') # loop through all the rows to find the tag element td\n",
    "        if len(col)!= 0 and col[3].contents[0] != 'unranked': # check if all the td elements are not empty and column 3 does not contain the string 'unranked'\n",
    "            data_dict = {\"Film\":str(col[1].contents[0]),\n",
    "                    \"Year\":int(col[2].contents[0]),\n",
    "                    \"Rotten Tomatoes' Top 100\":int(col[3].contents[0])} # extract the required columns beginning with the first row for every column\n",
    "            df1 = pd.DataFrame(data_dict, index=[0]) # Create a data frame df1 to hold the data extracted above and set the index to begin at zero\n",
    "            df = pd.concat([df,df1], ignore_index=True) # combine the initial empty data frame (df) with above data frame (df1) \n",
    "            df = df.loc[df['Year'] >= 2000] # select movies that were released in the year 2000 and above\n",
    "    count+=0 # increment the count by 1 and loop through the above code untill the last value 25\n",
    "   \n",
    "print(df) # print the data frame"
   ]
  },
  {
   "cell_type": "code",
   "execution_count": null,
   "metadata": {},
   "outputs": [],
   "source": [
    "# Export the data frame to a csv file\n",
    "df.to_csv(csvpath)"
   ]
  },
  {
   "cell_type": "code",
   "execution_count": null,
   "metadata": {},
   "outputs": [],
   "source": [
    "# Export the csv file to sqlite3 database\n",
    "conn = sqlite3.connect(db_name)\n",
    "df.to_sql(table_name,conn,if_exists='replace',index=False)\n",
    "conn.close"
   ]
  }
 ],
 "metadata": {
  "kernelspec": {
   "display_name": "Python 3",
   "language": "python",
   "name": "python3"
  },
  "language_info": {
   "codemirror_mode": {
    "name": "ipython",
    "version": 3
   },
   "file_extension": ".py",
   "mimetype": "text/x-python",
   "name": "python",
   "nbconvert_exporter": "python",
   "pygments_lexer": "ipython3",
   "version": "3.12.1"
  }
 },
 "nbformat": 4,
 "nbformat_minor": 2
}
